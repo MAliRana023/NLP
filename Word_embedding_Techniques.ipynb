{
  "cells": [
    {
      "cell_type": "markdown",
      "metadata": {
        "id": "eHNf7J680XF-"
      },
      "source": [
        "### Word Embedding Techniques using Embedding Layer in Keras"
      ]
    },
    {
      "cell_type": "code",
      "execution_count": 1,
      "metadata": {
        "id": "PEsK0_yl0XGB"
      },
      "outputs": [],
      "source": [
        "### Libraries USed Tensorflow> 2.0  and keras"
      ]
    },
    {
      "cell_type": "code",
      "execution_count": 5,
      "metadata": {
        "colab": {
          "base_uri": "https://localhost:8080/"
        },
        "id": "pslw1Ya90XGC",
        "outputId": "d41a680d-f57d-4ebc-ca58-54643f6affa0"
      },
      "outputs": [
        {
          "output_type": "stream",
          "name": "stdout",
          "text": [
            "Requirement already satisfied: tensorflow in /usr/local/lib/python3.10/dist-packages (2.15.0)\n",
            "Requirement already satisfied: absl-py>=1.0.0 in /usr/local/lib/python3.10/dist-packages (from tensorflow) (1.4.0)\n",
            "Requirement already satisfied: astunparse>=1.6.0 in /usr/local/lib/python3.10/dist-packages (from tensorflow) (1.6.3)\n",
            "Requirement already satisfied: flatbuffers>=23.5.26 in /usr/local/lib/python3.10/dist-packages (from tensorflow) (24.3.25)\n",
            "Requirement already satisfied: gast!=0.5.0,!=0.5.1,!=0.5.2,>=0.2.1 in /usr/local/lib/python3.10/dist-packages (from tensorflow) (0.5.4)\n",
            "Requirement already satisfied: google-pasta>=0.1.1 in /usr/local/lib/python3.10/dist-packages (from tensorflow) (0.2.0)\n",
            "Requirement already satisfied: h5py>=2.9.0 in /usr/local/lib/python3.10/dist-packages (from tensorflow) (3.9.0)\n",
            "Requirement already satisfied: libclang>=13.0.0 in /usr/local/lib/python3.10/dist-packages (from tensorflow) (18.1.1)\n",
            "Requirement already satisfied: ml-dtypes~=0.2.0 in /usr/local/lib/python3.10/dist-packages (from tensorflow) (0.2.0)\n",
            "Requirement already satisfied: numpy<2.0.0,>=1.23.5 in /usr/local/lib/python3.10/dist-packages (from tensorflow) (1.25.2)\n",
            "Requirement already satisfied: opt-einsum>=2.3.2 in /usr/local/lib/python3.10/dist-packages (from tensorflow) (3.3.0)\n",
            "Requirement already satisfied: packaging in /usr/local/lib/python3.10/dist-packages (from tensorflow) (24.0)\n",
            "Requirement already satisfied: protobuf!=4.21.0,!=4.21.1,!=4.21.2,!=4.21.3,!=4.21.4,!=4.21.5,<5.0.0dev,>=3.20.3 in /usr/local/lib/python3.10/dist-packages (from tensorflow) (3.20.3)\n",
            "Requirement already satisfied: setuptools in /usr/local/lib/python3.10/dist-packages (from tensorflow) (67.7.2)\n",
            "Requirement already satisfied: six>=1.12.0 in /usr/local/lib/python3.10/dist-packages (from tensorflow) (1.16.0)\n",
            "Requirement already satisfied: termcolor>=1.1.0 in /usr/local/lib/python3.10/dist-packages (from tensorflow) (2.4.0)\n",
            "Requirement already satisfied: typing-extensions>=3.6.6 in /usr/local/lib/python3.10/dist-packages (from tensorflow) (4.11.0)\n",
            "Requirement already satisfied: wrapt<1.15,>=1.11.0 in /usr/local/lib/python3.10/dist-packages (from tensorflow) (1.14.1)\n",
            "Requirement already satisfied: tensorflow-io-gcs-filesystem>=0.23.1 in /usr/local/lib/python3.10/dist-packages (from tensorflow) (0.37.0)\n",
            "Requirement already satisfied: grpcio<2.0,>=1.24.3 in /usr/local/lib/python3.10/dist-packages (from tensorflow) (1.63.0)\n",
            "Requirement already satisfied: tensorboard<2.16,>=2.15 in /usr/local/lib/python3.10/dist-packages (from tensorflow) (2.15.2)\n",
            "Requirement already satisfied: tensorflow-estimator<2.16,>=2.15.0 in /usr/local/lib/python3.10/dist-packages (from tensorflow) (2.15.0)\n",
            "Requirement already satisfied: keras<2.16,>=2.15.0 in /usr/local/lib/python3.10/dist-packages (from tensorflow) (2.15.0)\n",
            "Requirement already satisfied: wheel<1.0,>=0.23.0 in /usr/local/lib/python3.10/dist-packages (from astunparse>=1.6.0->tensorflow) (0.43.0)\n",
            "Requirement already satisfied: google-auth<3,>=1.6.3 in /usr/local/lib/python3.10/dist-packages (from tensorboard<2.16,>=2.15->tensorflow) (2.27.0)\n",
            "Requirement already satisfied: google-auth-oauthlib<2,>=0.5 in /usr/local/lib/python3.10/dist-packages (from tensorboard<2.16,>=2.15->tensorflow) (1.2.0)\n",
            "Requirement already satisfied: markdown>=2.6.8 in /usr/local/lib/python3.10/dist-packages (from tensorboard<2.16,>=2.15->tensorflow) (3.6)\n",
            "Requirement already satisfied: requests<3,>=2.21.0 in /usr/local/lib/python3.10/dist-packages (from tensorboard<2.16,>=2.15->tensorflow) (2.31.0)\n",
            "Requirement already satisfied: tensorboard-data-server<0.8.0,>=0.7.0 in /usr/local/lib/python3.10/dist-packages (from tensorboard<2.16,>=2.15->tensorflow) (0.7.2)\n",
            "Requirement already satisfied: werkzeug>=1.0.1 in /usr/local/lib/python3.10/dist-packages (from tensorboard<2.16,>=2.15->tensorflow) (3.0.2)\n",
            "Requirement already satisfied: cachetools<6.0,>=2.0.0 in /usr/local/lib/python3.10/dist-packages (from google-auth<3,>=1.6.3->tensorboard<2.16,>=2.15->tensorflow) (5.3.3)\n",
            "Requirement already satisfied: pyasn1-modules>=0.2.1 in /usr/local/lib/python3.10/dist-packages (from google-auth<3,>=1.6.3->tensorboard<2.16,>=2.15->tensorflow) (0.4.0)\n",
            "Requirement already satisfied: rsa<5,>=3.1.4 in /usr/local/lib/python3.10/dist-packages (from google-auth<3,>=1.6.3->tensorboard<2.16,>=2.15->tensorflow) (4.9)\n",
            "Requirement already satisfied: requests-oauthlib>=0.7.0 in /usr/local/lib/python3.10/dist-packages (from google-auth-oauthlib<2,>=0.5->tensorboard<2.16,>=2.15->tensorflow) (1.3.1)\n",
            "Requirement already satisfied: charset-normalizer<4,>=2 in /usr/local/lib/python3.10/dist-packages (from requests<3,>=2.21.0->tensorboard<2.16,>=2.15->tensorflow) (3.3.2)\n",
            "Requirement already satisfied: idna<4,>=2.5 in /usr/local/lib/python3.10/dist-packages (from requests<3,>=2.21.0->tensorboard<2.16,>=2.15->tensorflow) (3.7)\n",
            "Requirement already satisfied: urllib3<3,>=1.21.1 in /usr/local/lib/python3.10/dist-packages (from requests<3,>=2.21.0->tensorboard<2.16,>=2.15->tensorflow) (2.0.7)\n",
            "Requirement already satisfied: certifi>=2017.4.17 in /usr/local/lib/python3.10/dist-packages (from requests<3,>=2.21.0->tensorboard<2.16,>=2.15->tensorflow) (2024.2.2)\n",
            "Requirement already satisfied: MarkupSafe>=2.1.1 in /usr/local/lib/python3.10/dist-packages (from werkzeug>=1.0.1->tensorboard<2.16,>=2.15->tensorflow) (2.1.5)\n",
            "Requirement already satisfied: pyasn1<0.7.0,>=0.4.6 in /usr/local/lib/python3.10/dist-packages (from pyasn1-modules>=0.2.1->google-auth<3,>=1.6.3->tensorboard<2.16,>=2.15->tensorflow) (0.6.0)\n",
            "Requirement already satisfied: oauthlib>=3.0.0 in /usr/local/lib/python3.10/dist-packages (from requests-oauthlib>=0.7.0->google-auth-oauthlib<2,>=0.5->tensorboard<2.16,>=2.15->tensorflow) (3.2.2)\n"
          ]
        }
      ],
      "source": [
        "!pip install tensorflow"
      ]
    },
    {
      "cell_type": "code",
      "source": [
        "import tensorflow as tf\n",
        "print(tf.__version__)"
      ],
      "metadata": {
        "colab": {
          "base_uri": "https://localhost:8080/"
        },
        "id": "yZ5hceiMAX7n",
        "outputId": "c0ade952-4fca-4d08-e542-44480f0de190"
      },
      "execution_count": 6,
      "outputs": [
        {
          "output_type": "stream",
          "name": "stdout",
          "text": [
            "2.15.0\n"
          ]
        }
      ]
    },
    {
      "cell_type": "code",
      "execution_count": 33,
      "metadata": {
        "id": "k4nKifUl0XGC"
      },
      "outputs": [],
      "source": [
        "##tensorflow >2.0\n",
        "from tensorflow.keras.preprocessing.text import one_hot"
      ]
    },
    {
      "cell_type": "code",
      "source": [],
      "metadata": {
        "id": "hADTdqZTAUfS"
      },
      "execution_count": null,
      "outputs": []
    },
    {
      "cell_type": "code",
      "execution_count": 34,
      "metadata": {
        "id": "Fu9PuYeu0XGD"
      },
      "outputs": [],
      "source": [
        "### sentences\n",
        "sent=[  'the glass of milk',\n",
        "     'the glass of juice',\n",
        "     'the cup of tea',\n",
        "    'I am a good boy',\n",
        "     'I am a good developer',\n",
        "     'understand the meaning of words',\n",
        "     'your videos are good']"
      ]
    },
    {
      "cell_type": "code",
      "execution_count": 35,
      "metadata": {
        "colab": {
          "base_uri": "https://localhost:8080/"
        },
        "id": "x5d1D3_20XGD",
        "outputId": "15458319-7156-44c9-ef05-c5c3a611b33d"
      },
      "outputs": [
        {
          "output_type": "execute_result",
          "data": {
            "text/plain": [
              "['the glass of milk',\n",
              " 'the glass of juice',\n",
              " 'the cup of tea',\n",
              " 'I am a good boy',\n",
              " 'I am a good developer',\n",
              " 'understand the meaning of words',\n",
              " 'your videos are good']"
            ]
          },
          "metadata": {},
          "execution_count": 35
        }
      ],
      "source": [
        "sent"
      ]
    },
    {
      "cell_type": "code",
      "execution_count": 36,
      "metadata": {
        "id": "tjnXIn3B0XGE"
      },
      "outputs": [],
      "source": [
        "### Vocabulary size\n",
        "voc_size=10000"
      ]
    },
    {
      "cell_type": "markdown",
      "metadata": {
        "id": "-vQOdeKk0XGE"
      },
      "source": [
        "#### One Hot Representation"
      ]
    },
    {
      "cell_type": "code",
      "execution_count": 37,
      "metadata": {
        "colab": {
          "base_uri": "https://localhost:8080/"
        },
        "id": "gojfZpAW0XGE",
        "outputId": "e3086992-f66e-4b99-ac49-fccd6cc084fb"
      },
      "outputs": [
        {
          "output_type": "stream",
          "name": "stdout",
          "text": [
            "[[3367, 7886, 8635, 418], [3367, 7886, 8635, 6124], [3367, 5587, 8635, 1041], [9504, 1802, 5944, 8537, 6323], [9504, 1802, 5944, 8537, 922], [3199, 3367, 9219, 8635, 1852], [8222, 1162, 7669, 8537]]\n"
          ]
        }
      ],
      "source": [
        "onehot_repr=[one_hot(words,voc_size)for words in sent]\n",
        "print(onehot_repr)"
      ]
    },
    {
      "cell_type": "markdown",
      "metadata": {
        "id": "eYG267x40XGF"
      },
      "source": [
        "### Word Embedding Represntation"
      ]
    },
    {
      "cell_type": "code",
      "execution_count": 38,
      "metadata": {
        "id": "wpqPm0tb0XGF"
      },
      "outputs": [],
      "source": [
        "from tensorflow.keras.layers import Embedding\n",
        "from tensorflow.keras.preprocessing.sequence import pad_sequences\n",
        "from tensorflow.keras.models import Sequential"
      ]
    },
    {
      "cell_type": "code",
      "execution_count": 40,
      "metadata": {
        "id": "Rov3GTM00XGG"
      },
      "outputs": [],
      "source": [
        "import numpy as np"
      ]
    },
    {
      "cell_type": "code",
      "source": [
        "## pre padding\n",
        "sent_length=8\n",
        "embedded_docs=pad_sequences(onehot_repr,padding='pre',maxlen=sent_length)\n",
        "print(embedded_docs)"
      ],
      "metadata": {
        "id": "J47cevEnRCDi",
        "outputId": "f9bb6f68-9ae8-42e0-8686-6c8aff1e1c15",
        "colab": {
          "base_uri": "https://localhost:8080/"
        }
      },
      "execution_count": 43,
      "outputs": [
        {
          "output_type": "stream",
          "name": "stdout",
          "text": [
            "[[   0    0    0    0 3367 7886 8635  418]\n",
            " [   0    0    0    0 3367 7886 8635 6124]\n",
            " [   0    0    0    0 3367 5587 8635 1041]\n",
            " [   0    0    0 9504 1802 5944 8537 6323]\n",
            " [   0    0    0 9504 1802 5944 8537  922]\n",
            " [   0    0    0 3199 3367 9219 8635 1852]\n",
            " [   0    0    0    0 8222 1162 7669 8537]]\n"
          ]
        }
      ]
    },
    {
      "cell_type": "code",
      "execution_count": 44,
      "metadata": {
        "colab": {
          "base_uri": "https://localhost:8080/"
        },
        "id": "8fQLPw6p0XGG",
        "outputId": "8d4e9e62-e741-4605-c894-1dd04ea46e8d"
      },
      "outputs": [
        {
          "output_type": "stream",
          "name": "stdout",
          "text": [
            "[[3367 7886 8635  418    0    0    0    0]\n",
            " [3367 7886 8635 6124    0    0    0    0]\n",
            " [3367 5587 8635 1041    0    0    0    0]\n",
            " [9504 1802 5944 8537 6323    0    0    0]\n",
            " [9504 1802 5944 8537  922    0    0    0]\n",
            " [3199 3367 9219 8635 1852    0    0    0]\n",
            " [8222 1162 7669 8537    0    0    0    0]]\n"
          ]
        }
      ],
      "source": [
        "## post padding\n",
        "sent_length=8\n",
        "embedded_docs=pad_sequences(onehot_repr,padding='post',maxlen=sent_length)\n",
        "print(embedded_docs)"
      ]
    },
    {
      "cell_type": "code",
      "execution_count": 46,
      "metadata": {
        "id": "yjQqBYac0XGG"
      },
      "outputs": [],
      "source": [
        "## 10 feature dimesnions\n",
        "dim=10\n"
      ]
    },
    {
      "cell_type": "code",
      "execution_count": 45,
      "metadata": {
        "id": "ozC-TXrt0XGG"
      },
      "outputs": [],
      "source": [
        "model=Sequential()\n",
        "model.add(Embedding(voc_size,10,input_length=sent_length))\n",
        "model.compile('adam','mse')"
      ]
    },
    {
      "cell_type": "code",
      "execution_count": 47,
      "metadata": {
        "colab": {
          "base_uri": "https://localhost:8080/"
        },
        "id": "tMNvq-Ji0XGH",
        "outputId": "da98caf4-129e-420f-83c0-980a80823ea3"
      },
      "outputs": [
        {
          "output_type": "stream",
          "name": "stdout",
          "text": [
            "Model: \"sequential_2\"\n",
            "_________________________________________________________________\n",
            " Layer (type)                Output Shape              Param #   \n",
            "=================================================================\n",
            " embedding_2 (Embedding)     (None, 8, 10)             100000    \n",
            "                                                                 \n",
            "=================================================================\n",
            "Total params: 100000 (390.62 KB)\n",
            "Trainable params: 100000 (390.62 KB)\n",
            "Non-trainable params: 0 (0.00 Byte)\n",
            "_________________________________________________________________\n"
          ]
        }
      ],
      "source": [
        "model.summary()"
      ]
    },
    {
      "cell_type": "code",
      "source": [
        "##'the glass of milk',\n",
        "embedded_docs[4]"
      ],
      "metadata": {
        "colab": {
          "base_uri": "https://localhost:8080/"
        },
        "id": "FC4Ess_FEcb3",
        "outputId": "8e0dca91-2e8c-4b3e-bf70-83ceb74d22d3"
      },
      "execution_count": 53,
      "outputs": [
        {
          "output_type": "execute_result",
          "data": {
            "text/plain": [
              "array([9504, 1802, 5944, 8537,  922,    0,    0,    0], dtype=int32)"
            ]
          },
          "metadata": {},
          "execution_count": 53
        }
      ]
    },
    {
      "cell_type": "code",
      "source": [
        "model.predict(embedded_docs[3])"
      ],
      "metadata": {
        "colab": {
          "base_uri": "https://localhost:8080/"
        },
        "id": "bRqEvMBYEZUS",
        "outputId": "a014e3ca-dd1c-4b4d-c265-1de4a5decaf0"
      },
      "execution_count": 54,
      "outputs": [
        {
          "output_type": "stream",
          "name": "stdout",
          "text": [
            "1/1 [==============================] - 0s 16ms/step\n"
          ]
        },
        {
          "output_type": "execute_result",
          "data": {
            "text/plain": [
              "array([[ 0.04423536,  0.02633791,  0.04896757, -0.04503116,  0.014534  ,\n",
              "        -0.01361825, -0.00557037, -0.02183261, -0.04261333, -0.03911743],\n",
              "       [ 0.03930134,  0.03682731, -0.04064239, -0.00846182,  0.01281205,\n",
              "         0.02003117, -0.0055423 ,  0.04043357,  0.04230504, -0.00625316],\n",
              "       [ 0.0175201 ,  0.00333275,  0.03283078,  0.01309801, -0.0212248 ,\n",
              "         0.03392472,  0.04716126,  0.02898622, -0.04584038,  0.04927167],\n",
              "       [-0.00757723,  0.01891995, -0.03048165,  0.03222534,  0.03180664,\n",
              "        -0.04052915, -0.01168315,  0.00076674,  0.02312252,  0.00059726],\n",
              "       [-0.0225722 ,  0.04772944,  0.00915947,  0.00743442, -0.04884659,\n",
              "        -0.03281226, -0.03663136, -0.0026706 ,  0.00927722,  0.03955083],\n",
              "       [-0.02313911,  0.02033787, -0.01309367,  0.03325028, -0.02931094,\n",
              "        -0.02426287, -0.02650371,  0.01598126, -0.03138836,  0.00353681],\n",
              "       [-0.02313911,  0.02033787, -0.01309367,  0.03325028, -0.02931094,\n",
              "        -0.02426287, -0.02650371,  0.01598126, -0.03138836,  0.00353681],\n",
              "       [-0.02313911,  0.02033787, -0.01309367,  0.03325028, -0.02931094,\n",
              "        -0.02426287, -0.02650371,  0.01598126, -0.03138836,  0.00353681]],\n",
              "      dtype=float32)"
            ]
          },
          "metadata": {},
          "execution_count": 54
        }
      ]
    },
    {
      "cell_type": "code",
      "execution_count": 55,
      "metadata": {
        "colab": {
          "base_uri": "https://localhost:8080/"
        },
        "id": "kzKP69gx0XGH",
        "outputId": "2c120f2b-580d-4ade-f6b4-96ed4185b397"
      },
      "outputs": [
        {
          "output_type": "stream",
          "name": "stdout",
          "text": [
            "1/1 [==============================] - 0s 33ms/step\n",
            "[[[ 4.03289907e-02  4.36372682e-03  4.31119464e-02 -8.67471099e-05\n",
            "    2.20794603e-03  3.69046368e-02  1.41865648e-02  1.48455240e-02\n",
            "    3.59632708e-02 -2.89721247e-02]\n",
            "  [-2.83253547e-02 -4.58765626e-02 -2.64843553e-03  1.01584196e-03\n",
            "    8.71369988e-03  1.78874768e-02 -2.26442218e-02 -3.96317355e-02\n",
            "   -1.73427090e-02  1.59677602e-02]\n",
            "  [-2.97713634e-02 -1.30168572e-02 -3.13440450e-02 -4.90135215e-02\n",
            "   -7.21202046e-03 -3.30568776e-02  1.56986974e-02  1.68313123e-02\n",
            "    3.97548191e-02  2.98248865e-02]\n",
            "  [ 1.35678761e-02 -4.37009931e-02  4.51709889e-02 -2.46007685e-02\n",
            "   -2.28012092e-02 -4.15394679e-02  2.71145739e-02  1.33769587e-03\n",
            "    2.13519819e-02 -1.24359131e-02]\n",
            "  [-2.31391080e-02  2.03378685e-02 -1.30936727e-02  3.32502760e-02\n",
            "   -2.93109417e-02 -2.42628697e-02 -2.65037064e-02  1.59812607e-02\n",
            "   -3.13883573e-02  3.53680924e-03]\n",
            "  [-2.31391080e-02  2.03378685e-02 -1.30936727e-02  3.32502760e-02\n",
            "   -2.93109417e-02 -2.42628697e-02 -2.65037064e-02  1.59812607e-02\n",
            "   -3.13883573e-02  3.53680924e-03]\n",
            "  [-2.31391080e-02  2.03378685e-02 -1.30936727e-02  3.32502760e-02\n",
            "   -2.93109417e-02 -2.42628697e-02 -2.65037064e-02  1.59812607e-02\n",
            "   -3.13883573e-02  3.53680924e-03]\n",
            "  [-2.31391080e-02  2.03378685e-02 -1.30936727e-02  3.32502760e-02\n",
            "   -2.93109417e-02 -2.42628697e-02 -2.65037064e-02  1.59812607e-02\n",
            "   -3.13883573e-02  3.53680924e-03]]\n",
            "\n",
            " [[ 4.03289907e-02  4.36372682e-03  4.31119464e-02 -8.67471099e-05\n",
            "    2.20794603e-03  3.69046368e-02  1.41865648e-02  1.48455240e-02\n",
            "    3.59632708e-02 -2.89721247e-02]\n",
            "  [-2.83253547e-02 -4.58765626e-02 -2.64843553e-03  1.01584196e-03\n",
            "    8.71369988e-03  1.78874768e-02 -2.26442218e-02 -3.96317355e-02\n",
            "   -1.73427090e-02  1.59677602e-02]\n",
            "  [-2.97713634e-02 -1.30168572e-02 -3.13440450e-02 -4.90135215e-02\n",
            "   -7.21202046e-03 -3.30568776e-02  1.56986974e-02  1.68313123e-02\n",
            "    3.97548191e-02  2.98248865e-02]\n",
            "  [-2.75959503e-02 -2.66019590e-02 -1.60460584e-02 -2.81381607e-02\n",
            "   -1.58048868e-02  1.09039657e-02  2.99503915e-02  8.44831392e-03\n",
            "    7.41051510e-03 -2.05173623e-02]\n",
            "  [-2.31391080e-02  2.03378685e-02 -1.30936727e-02  3.32502760e-02\n",
            "   -2.93109417e-02 -2.42628697e-02 -2.65037064e-02  1.59812607e-02\n",
            "   -3.13883573e-02  3.53680924e-03]\n",
            "  [-2.31391080e-02  2.03378685e-02 -1.30936727e-02  3.32502760e-02\n",
            "   -2.93109417e-02 -2.42628697e-02 -2.65037064e-02  1.59812607e-02\n",
            "   -3.13883573e-02  3.53680924e-03]\n",
            "  [-2.31391080e-02  2.03378685e-02 -1.30936727e-02  3.32502760e-02\n",
            "   -2.93109417e-02 -2.42628697e-02 -2.65037064e-02  1.59812607e-02\n",
            "   -3.13883573e-02  3.53680924e-03]\n",
            "  [-2.31391080e-02  2.03378685e-02 -1.30936727e-02  3.32502760e-02\n",
            "   -2.93109417e-02 -2.42628697e-02 -2.65037064e-02  1.59812607e-02\n",
            "   -3.13883573e-02  3.53680924e-03]]\n",
            "\n",
            " [[ 4.03289907e-02  4.36372682e-03  4.31119464e-02 -8.67471099e-05\n",
            "    2.20794603e-03  3.69046368e-02  1.41865648e-02  1.48455240e-02\n",
            "    3.59632708e-02 -2.89721247e-02]\n",
            "  [-2.08235383e-02 -1.65057182e-02 -4.44384329e-02 -1.95273049e-02\n",
            "    9.61760432e-03  1.75418593e-02  3.08108814e-02  2.46285684e-02\n",
            "    2.78479494e-02 -1.20329857e-03]\n",
            "  [-2.97713634e-02 -1.30168572e-02 -3.13440450e-02 -4.90135215e-02\n",
            "   -7.21202046e-03 -3.30568776e-02  1.56986974e-02  1.68313123e-02\n",
            "    3.97548191e-02  2.98248865e-02]\n",
            "  [ 4.79422100e-02 -3.54209431e-02 -3.78484651e-03 -2.67194752e-02\n",
            "   -7.96344131e-03 -4.97068428e-02 -4.97602113e-02  1.53349750e-02\n",
            "    3.89788784e-02  8.92897695e-03]\n",
            "  [-2.31391080e-02  2.03378685e-02 -1.30936727e-02  3.32502760e-02\n",
            "   -2.93109417e-02 -2.42628697e-02 -2.65037064e-02  1.59812607e-02\n",
            "   -3.13883573e-02  3.53680924e-03]\n",
            "  [-2.31391080e-02  2.03378685e-02 -1.30936727e-02  3.32502760e-02\n",
            "   -2.93109417e-02 -2.42628697e-02 -2.65037064e-02  1.59812607e-02\n",
            "   -3.13883573e-02  3.53680924e-03]\n",
            "  [-2.31391080e-02  2.03378685e-02 -1.30936727e-02  3.32502760e-02\n",
            "   -2.93109417e-02 -2.42628697e-02 -2.65037064e-02  1.59812607e-02\n",
            "   -3.13883573e-02  3.53680924e-03]\n",
            "  [-2.31391080e-02  2.03378685e-02 -1.30936727e-02  3.32502760e-02\n",
            "   -2.93109417e-02 -2.42628697e-02 -2.65037064e-02  1.59812607e-02\n",
            "   -3.13883573e-02  3.53680924e-03]]\n",
            "\n",
            " [[ 4.42353599e-02  2.63379104e-02  4.89675663e-02 -4.50311564e-02\n",
            "    1.45340003e-02 -1.36182532e-02 -5.57037443e-03 -2.18326095e-02\n",
            "   -4.26133275e-02 -3.91174331e-02]\n",
            "  [ 3.93013395e-02  3.68273146e-02 -4.06423919e-02 -8.46182182e-03\n",
            "    1.28120519e-02  2.00311653e-02 -5.54230064e-03  4.04335745e-02\n",
            "    4.23050411e-02 -6.25316054e-03]\n",
            "  [ 1.75201036e-02  3.33274528e-03  3.28307785e-02  1.30980127e-02\n",
            "   -2.12247968e-02  3.39247249e-02  4.71612550e-02  2.89862193e-02\n",
            "   -4.58403826e-02  4.92716692e-02]\n",
            "  [-7.57722929e-03  1.89199485e-02 -3.04816496e-02  3.22253369e-02\n",
            "    3.18066366e-02 -4.05291542e-02 -1.16831549e-02  7.66742975e-04\n",
            "    2.31225155e-02  5.97260892e-04]\n",
            "  [-2.25721952e-02  4.77294363e-02  9.15946811e-03  7.43441656e-03\n",
            "   -4.88465913e-02 -3.28122601e-02 -3.66313569e-02 -2.67059729e-03\n",
            "    9.27722454e-03  3.95508297e-02]\n",
            "  [-2.31391080e-02  2.03378685e-02 -1.30936727e-02  3.32502760e-02\n",
            "   -2.93109417e-02 -2.42628697e-02 -2.65037064e-02  1.59812607e-02\n",
            "   -3.13883573e-02  3.53680924e-03]\n",
            "  [-2.31391080e-02  2.03378685e-02 -1.30936727e-02  3.32502760e-02\n",
            "   -2.93109417e-02 -2.42628697e-02 -2.65037064e-02  1.59812607e-02\n",
            "   -3.13883573e-02  3.53680924e-03]\n",
            "  [-2.31391080e-02  2.03378685e-02 -1.30936727e-02  3.32502760e-02\n",
            "   -2.93109417e-02 -2.42628697e-02 -2.65037064e-02  1.59812607e-02\n",
            "   -3.13883573e-02  3.53680924e-03]]\n",
            "\n",
            " [[ 4.42353599e-02  2.63379104e-02  4.89675663e-02 -4.50311564e-02\n",
            "    1.45340003e-02 -1.36182532e-02 -5.57037443e-03 -2.18326095e-02\n",
            "   -4.26133275e-02 -3.91174331e-02]\n",
            "  [ 3.93013395e-02  3.68273146e-02 -4.06423919e-02 -8.46182182e-03\n",
            "    1.28120519e-02  2.00311653e-02 -5.54230064e-03  4.04335745e-02\n",
            "    4.23050411e-02 -6.25316054e-03]\n",
            "  [ 1.75201036e-02  3.33274528e-03  3.28307785e-02  1.30980127e-02\n",
            "   -2.12247968e-02  3.39247249e-02  4.71612550e-02  2.89862193e-02\n",
            "   -4.58403826e-02  4.92716692e-02]\n",
            "  [-7.57722929e-03  1.89199485e-02 -3.04816496e-02  3.22253369e-02\n",
            "    3.18066366e-02 -4.05291542e-02 -1.16831549e-02  7.66742975e-04\n",
            "    2.31225155e-02  5.97260892e-04]\n",
            "  [-1.31723396e-02  1.93302073e-02 -3.49815376e-02  2.23424546e-02\n",
            "    4.27288674e-02  1.32049434e-02  1.89753287e-02 -3.94020453e-02\n",
            "    1.81526802e-02 -1.52910948e-02]\n",
            "  [-2.31391080e-02  2.03378685e-02 -1.30936727e-02  3.32502760e-02\n",
            "   -2.93109417e-02 -2.42628697e-02 -2.65037064e-02  1.59812607e-02\n",
            "   -3.13883573e-02  3.53680924e-03]\n",
            "  [-2.31391080e-02  2.03378685e-02 -1.30936727e-02  3.32502760e-02\n",
            "   -2.93109417e-02 -2.42628697e-02 -2.65037064e-02  1.59812607e-02\n",
            "   -3.13883573e-02  3.53680924e-03]\n",
            "  [-2.31391080e-02  2.03378685e-02 -1.30936727e-02  3.32502760e-02\n",
            "   -2.93109417e-02 -2.42628697e-02 -2.65037064e-02  1.59812607e-02\n",
            "   -3.13883573e-02  3.53680924e-03]]\n",
            "\n",
            " [[-9.18585062e-03  1.07827559e-02 -1.86158307e-02  1.22162476e-02\n",
            "    1.33919008e-02 -4.59993593e-02 -5.52535057e-05 -3.86581793e-02\n",
            "    4.55352776e-02  2.42383964e-02]\n",
            "  [ 4.03289907e-02  4.36372682e-03  4.31119464e-02 -8.67471099e-05\n",
            "    2.20794603e-03  3.69046368e-02  1.41865648e-02  1.48455240e-02\n",
            "    3.59632708e-02 -2.89721247e-02]\n",
            "  [-2.86557917e-02 -6.83703274e-03  8.19554180e-03 -6.50062412e-03\n",
            "    3.54803242e-02  3.92161049e-02 -4.15809378e-02  9.75725800e-03\n",
            "   -4.22158353e-02 -1.75653584e-02]\n",
            "  [-2.97713634e-02 -1.30168572e-02 -3.13440450e-02 -4.90135215e-02\n",
            "   -7.21202046e-03 -3.30568776e-02  1.56986974e-02  1.68313123e-02\n",
            "    3.97548191e-02  2.98248865e-02]\n",
            "  [ 2.13396885e-02 -2.87462715e-02 -4.51839566e-02 -4.74342816e-02\n",
            "    2.22050063e-02 -4.38101403e-02 -1.45020261e-02 -8.92657042e-03\n",
            "   -2.29347870e-03  2.86077149e-02]\n",
            "  [-2.31391080e-02  2.03378685e-02 -1.30936727e-02  3.32502760e-02\n",
            "   -2.93109417e-02 -2.42628697e-02 -2.65037064e-02  1.59812607e-02\n",
            "   -3.13883573e-02  3.53680924e-03]\n",
            "  [-2.31391080e-02  2.03378685e-02 -1.30936727e-02  3.32502760e-02\n",
            "   -2.93109417e-02 -2.42628697e-02 -2.65037064e-02  1.59812607e-02\n",
            "   -3.13883573e-02  3.53680924e-03]\n",
            "  [-2.31391080e-02  2.03378685e-02 -1.30936727e-02  3.32502760e-02\n",
            "   -2.93109417e-02 -2.42628697e-02 -2.65037064e-02  1.59812607e-02\n",
            "   -3.13883573e-02  3.53680924e-03]]\n",
            "\n",
            " [[ 1.96715109e-02  1.09104402e-02  2.51412280e-02 -2.42018346e-02\n",
            "   -9.47891548e-03  3.24060433e-02 -3.32604200e-02 -3.52151021e-02\n",
            "    1.27771385e-02 -3.52307409e-03]\n",
            "  [-2.38087773e-02  3.06616761e-02 -2.65823491e-02  4.91543300e-02\n",
            "    1.41306631e-02 -5.93971461e-04 -2.66648419e-02  1.97583698e-02\n",
            "    3.22407000e-02  3.13634984e-02]\n",
            "  [ 3.51998098e-02  4.15575840e-02  2.49935314e-03  7.89538026e-05\n",
            "    2.93410681e-02 -2.20391043e-02 -3.79586592e-02 -1.01355426e-02\n",
            "   -1.22392401e-02  1.43473037e-02]\n",
            "  [-7.57722929e-03  1.89199485e-02 -3.04816496e-02  3.22253369e-02\n",
            "    3.18066366e-02 -4.05291542e-02 -1.16831549e-02  7.66742975e-04\n",
            "    2.31225155e-02  5.97260892e-04]\n",
            "  [-2.31391080e-02  2.03378685e-02 -1.30936727e-02  3.32502760e-02\n",
            "   -2.93109417e-02 -2.42628697e-02 -2.65037064e-02  1.59812607e-02\n",
            "   -3.13883573e-02  3.53680924e-03]\n",
            "  [-2.31391080e-02  2.03378685e-02 -1.30936727e-02  3.32502760e-02\n",
            "   -2.93109417e-02 -2.42628697e-02 -2.65037064e-02  1.59812607e-02\n",
            "   -3.13883573e-02  3.53680924e-03]\n",
            "  [-2.31391080e-02  2.03378685e-02 -1.30936727e-02  3.32502760e-02\n",
            "   -2.93109417e-02 -2.42628697e-02 -2.65037064e-02  1.59812607e-02\n",
            "   -3.13883573e-02  3.53680924e-03]\n",
            "  [-2.31391080e-02  2.03378685e-02 -1.30936727e-02  3.32502760e-02\n",
            "   -2.93109417e-02 -2.42628697e-02 -2.65037064e-02  1.59812607e-02\n",
            "   -3.13883573e-02  3.53680924e-03]]]\n"
          ]
        }
      ],
      "source": [
        "print(model.predict(embedded_docs))"
      ]
    },
    {
      "cell_type": "code",
      "execution_count": 21,
      "metadata": {
        "id": "JuUxfk7d0XGH",
        "outputId": "b69780fd-d62e-463e-cbe4-16f1978e7b81",
        "colab": {
          "base_uri": "https://localhost:8080/"
        }
      },
      "outputs": [
        {
          "output_type": "execute_result",
          "data": {
            "text/plain": [
              "array([  0,   0,   0,   0, 299, 163,  47, 399], dtype=int32)"
            ]
          },
          "metadata": {},
          "execution_count": 21
        }
      ],
      "source": [
        "embedded_docs[0]"
      ]
    },
    {
      "cell_type": "code",
      "execution_count": 22,
      "metadata": {
        "id": "6JJ_zD0u0XGH",
        "outputId": "df6199d6-8190-4d78-bc93-dca19f5cc8f4",
        "colab": {
          "base_uri": "https://localhost:8080/"
        }
      },
      "outputs": [
        {
          "output_type": "stream",
          "name": "stdout",
          "text": [
            "1/1 [==============================] - 0s 18ms/step\n",
            "[[-0.0433107  -0.02927794 -0.0093125  -0.02345903  0.03243983  0.01923375\n",
            "  -0.02217627  0.00746355 -0.00659268 -0.01812824]\n",
            " [-0.0433107  -0.02927794 -0.0093125  -0.02345903  0.03243983  0.01923375\n",
            "  -0.02217627  0.00746355 -0.00659268 -0.01812824]\n",
            " [-0.0433107  -0.02927794 -0.0093125  -0.02345903  0.03243983  0.01923375\n",
            "  -0.02217627  0.00746355 -0.00659268 -0.01812824]\n",
            " [-0.0433107  -0.02927794 -0.0093125  -0.02345903  0.03243983  0.01923375\n",
            "  -0.02217627  0.00746355 -0.00659268 -0.01812824]\n",
            " [-0.04188093 -0.00321103  0.04571855 -0.04112945 -0.0316216   0.01648252\n",
            "   0.01715614  0.02464398 -0.01411443 -0.04350295]\n",
            " [ 0.00780531  0.00323149 -0.03460763 -0.02945776  0.01351461 -0.00506882\n",
            "  -0.02152379  0.04034476  0.01072286 -0.02994479]\n",
            " [ 0.02600565 -0.0306326   0.03594592  0.02372554 -0.04865494 -0.01098096\n",
            "   0.03109573 -0.00678707  0.01804345 -0.03800644]\n",
            " [-0.01227386  0.0242026   0.03031658 -0.02822687  0.04615164  0.01890118\n",
            "   0.00080111  0.00241991 -0.02279165 -0.04941267]]\n"
          ]
        }
      ],
      "source": [
        "print(model.predict(embedded_docs)[0])"
      ]
    },
    {
      "cell_type": "code",
      "execution_count": 60,
      "metadata": {
        "id": "8OMu3iAz0XGH"
      },
      "outputs": [],
      "source": [
        "### Assignment\n",
        "\n",
        "sent1=[\"The world is a better place\",\n",
        "      \"Marvel series is my favourite movie\",\n",
        "      \"I like DC movies\",\n",
        "      \"the cat is eating the food\",\n",
        "      \"Tom and Jerry is my favourite movie\",\n",
        "      \"Python is my favourite programming language\"\n",
        "      ]"
      ]
    },
    {
      "cell_type": "code",
      "source": [
        "### Vocabulary size\n",
        "voc_size=10000"
      ],
      "metadata": {
        "id": "zLzWAQi6Th2x"
      },
      "execution_count": 61,
      "outputs": []
    },
    {
      "cell_type": "code",
      "source": [
        "onehot_repr=[one_hot(words,voc_size)for words in sent1]\n",
        "print(onehot_repr)"
      ],
      "metadata": {
        "id": "avOJ0x4FTibG",
        "outputId": "e05e4786-285e-4ecd-d3e3-b7472336f575",
        "colab": {
          "base_uri": "https://localhost:8080/"
        }
      },
      "execution_count": 65,
      "outputs": [
        {
          "output_type": "stream",
          "name": "stdout",
          "text": [
            "[[3367, 4264, 3264, 5944, 5558, 443], [6166, 429, 3264, 5395, 2594, 2923], [9504, 6094, 3922, 6143], [3367, 376, 3264, 7554, 3367, 2627], [9882, 9734, 4416, 3264, 5395, 2594, 2923], [5446, 3264, 5395, 2594, 5708, 6030]]\n"
          ]
        }
      ]
    },
    {
      "cell_type": "code",
      "source": [
        "from tensorflow.keras.layers import Embedding\n",
        "from tensorflow.keras.preprocessing.sequence import pad_sequences\n",
        "from tensorflow.keras.models import Sequential"
      ],
      "metadata": {
        "id": "SuapVQ94TmhR"
      },
      "execution_count": 66,
      "outputs": []
    },
    {
      "cell_type": "code",
      "source": [
        "import numpy as np\n",
        "## pre padding\n",
        "sent_length=8\n",
        "embedded_docs=pad_sequences(onehot_repr,padding='pre',maxlen=sent_length)\n",
        "print(embedded_docs)"
      ],
      "metadata": {
        "id": "mATpviiGTp4X",
        "outputId": "e7ce7185-5162-4a20-a999-5f49468c7a78",
        "colab": {
          "base_uri": "https://localhost:8080/"
        }
      },
      "execution_count": 67,
      "outputs": [
        {
          "output_type": "stream",
          "name": "stdout",
          "text": [
            "[[   0    0 3367 4264 3264 5944 5558  443]\n",
            " [   0    0 6166  429 3264 5395 2594 2923]\n",
            " [   0    0    0    0 9504 6094 3922 6143]\n",
            " [   0    0 3367  376 3264 7554 3367 2627]\n",
            " [   0 9882 9734 4416 3264 5395 2594 2923]\n",
            " [   0    0 5446 3264 5395 2594 5708 6030]]\n"
          ]
        }
      ]
    },
    {
      "cell_type": "code",
      "source": [
        "# Adding the dimensions\n",
        "dim=10"
      ],
      "metadata": {
        "id": "wOZf1LGTTxDf"
      },
      "execution_count": 68,
      "outputs": []
    },
    {
      "cell_type": "code",
      "source": [
        "model=Sequential()\n",
        "model.add(Embedding(voc_size,10,input_length=sent_length))\n",
        "model.compile('adam','mse')"
      ],
      "metadata": {
        "id": "kxwYq_jIUGqq"
      },
      "execution_count": 69,
      "outputs": []
    },
    {
      "cell_type": "code",
      "source": [
        "model.summary()"
      ],
      "metadata": {
        "id": "HYxBDKIjUH0A",
        "outputId": "537581b2-acd7-4f90-ff97-e97bf28db561",
        "colab": {
          "base_uri": "https://localhost:8080/"
        }
      },
      "execution_count": 70,
      "outputs": [
        {
          "output_type": "stream",
          "name": "stdout",
          "text": [
            "Model: \"sequential_3\"\n",
            "_________________________________________________________________\n",
            " Layer (type)                Output Shape              Param #   \n",
            "=================================================================\n",
            " embedding_3 (Embedding)     (None, 8, 10)             100000    \n",
            "                                                                 \n",
            "=================================================================\n",
            "Total params: 100000 (390.62 KB)\n",
            "Trainable params: 100000 (390.62 KB)\n",
            "Non-trainable params: 0 (0.00 Byte)\n",
            "_________________________________________________________________\n"
          ]
        }
      ]
    },
    {
      "cell_type": "code",
      "source": [
        "##'the glass of milk',\n",
        "embedded_docs[4]"
      ],
      "metadata": {
        "id": "bnT3DYFwUKSt",
        "outputId": "1a5963d4-e1c5-4875-ad57-a626d4855e08",
        "colab": {
          "base_uri": "https://localhost:8080/"
        }
      },
      "execution_count": 71,
      "outputs": [
        {
          "output_type": "execute_result",
          "data": {
            "text/plain": [
              "array([   0, 9882, 9734, 4416, 3264, 5395, 2594, 2923], dtype=int32)"
            ]
          },
          "metadata": {},
          "execution_count": 71
        }
      ]
    },
    {
      "cell_type": "code",
      "source": [
        "model.predict(embedded_docs[3])"
      ],
      "metadata": {
        "id": "5xZK1QAEUQf0",
        "outputId": "aef1b11b-83cd-4705-da3b-0602b5b5de04",
        "colab": {
          "base_uri": "https://localhost:8080/"
        }
      },
      "execution_count": 72,
      "outputs": [
        {
          "output_type": "stream",
          "name": "stderr",
          "text": [
            "WARNING:tensorflow:5 out of the last 7 calls to <function Model.make_predict_function.<locals>.predict_function at 0x7f360f7b9900> triggered tf.function retracing. Tracing is expensive and the excessive number of tracings could be due to (1) creating @tf.function repeatedly in a loop, (2) passing tensors with different shapes, (3) passing Python objects instead of tensors. For (1), please define your @tf.function outside of the loop. For (2), @tf.function has reduce_retracing=True option that can avoid unnecessary retracing. For (3), please refer to https://www.tensorflow.org/guide/function#controlling_retracing and https://www.tensorflow.org/api_docs/python/tf/function for  more details.\n"
          ]
        },
        {
          "output_type": "stream",
          "name": "stdout",
          "text": [
            "1/1 [==============================] - 0s 37ms/step\n"
          ]
        },
        {
          "output_type": "execute_result",
          "data": {
            "text/plain": [
              "array([[ 0.02024652,  0.04356459,  0.04555105,  0.0279071 , -0.02243077,\n",
              "        -0.02078091, -0.00143407, -0.03070079, -0.02325794,  0.03570486],\n",
              "       [ 0.02024652,  0.04356459,  0.04555105,  0.0279071 , -0.02243077,\n",
              "        -0.02078091, -0.00143407, -0.03070079, -0.02325794,  0.03570486],\n",
              "       [ 0.04795024, -0.01503729, -0.03668739, -0.00780616, -0.01182822,\n",
              "        -0.04477339,  0.01096752, -0.04075346, -0.00804453, -0.0392893 ],\n",
              "       [-0.03513057, -0.03213588, -0.04271021,  0.03497188,  0.01538188,\n",
              "        -0.04513296,  0.01310616, -0.01736725,  0.02280502, -0.03928643],\n",
              "       [-0.0089262 ,  0.0149082 ,  0.02473878, -0.04442638, -0.03377761,\n",
              "         0.01917937,  0.0097362 , -0.02635781,  0.0273529 , -0.03687475],\n",
              "       [-0.02127168, -0.0216242 , -0.00597107,  0.01493008,  0.02286491,\n",
              "         0.00840624, -0.0284374 , -0.02359743,  0.03053919, -0.03240891],\n",
              "       [ 0.04795024, -0.01503729, -0.03668739, -0.00780616, -0.01182822,\n",
              "        -0.04477339,  0.01096752, -0.04075346, -0.00804453, -0.0392893 ],\n",
              "       [-0.01886982, -0.03732616, -0.00521407,  0.01354101,  0.03386888,\n",
              "         0.03783858,  0.02278984,  0.01602134,  0.01213856,  0.00870055]],\n",
              "      dtype=float32)"
            ]
          },
          "metadata": {},
          "execution_count": 72
        }
      ]
    },
    {
      "cell_type": "code",
      "source": [],
      "metadata": {
        "id": "pKUr4InGUV4b"
      },
      "execution_count": null,
      "outputs": []
    }
  ],
  "metadata": {
    "kernelspec": {
      "display_name": "Python 3",
      "language": "python",
      "name": "python3"
    },
    "language_info": {
      "codemirror_mode": {
        "name": "ipython",
        "version": 3
      },
      "file_extension": ".py",
      "mimetype": "text/x-python",
      "name": "python",
      "nbconvert_exporter": "python",
      "pygments_lexer": "ipython3",
      "version": "3.7.4"
    },
    "colab": {
      "provenance": []
    },
    "accelerator": "GPU",
    "gpuClass": "standard"
  },
  "nbformat": 4,
  "nbformat_minor": 0
}